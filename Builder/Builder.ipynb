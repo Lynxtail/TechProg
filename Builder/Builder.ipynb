{
  "nbformat": 4,
  "nbformat_minor": 0,
  "metadata": {
    "colab": {
      "name": "Builder.ipynb",
      "provenance": [],
      "collapsed_sections": []
    },
    "kernelspec": {
      "name": "python3",
      "display_name": "Python 3"
    },
    "language_info": {
      "name": "python"
    }
  },
  "cells": [
    {
      "cell_type": "code",
      "metadata": {
        "id": "3aSS5Y9Dl0xt"
      },
      "source": [
        "from abc import ABC, abstractmethod"
      ],
      "execution_count": null,
      "outputs": []
    },
    {
      "cell_type": "code",
      "metadata": {
        "colab": {
          "base_uri": "https://localhost:8080/",
          "height": 129
        },
        "id": "OSCxgMv4ntsF",
        "outputId": "66b35b6c-2584-4cf9-81ce-e429fdd71b36"
      },
      "source": [
        "class Builder(ABC):\n",
        "  \n",
        "  @property\n",
        "  @abstractmethod\n",
        "  def product(self):\n",
        "    pass\n",
        "  \n",
        "  @abstractmethod\n",
        "  def add_water(self):\n",
        "    pass\n",
        "\n",
        "  @abstractmethod\n",
        "  def add_milk(self):\n",
        "    pass\n",
        "\n",
        "  @abstractmethod\n",
        "  def add_coffee(self):\n",
        "    pass\n",
        "    \n",
        "  @abstractmethod\n",
        "  def add_tea(self):\n",
        "    pass\n",
        "  \n",
        "class TeaBuilder(Builder):\n",
        "  \n",
        "  def __init__(self):\n",
        "    self.reset()\n",
        "\n",
        "  def reset(self):\n",
        "    self.product = Tea\n",
        "\n",
        "  @property\n",
        "  def product(self):\n",
        "    product = self.product\n",
        "    self.reset()\n",
        "    return product\n",
        "\n",
        "  def add_tea(self):\n",
        "    self.product.add('Tea')\n",
        "  \n",
        "  def add_water(self):\n",
        "    self.product.add('Water')\n",
        "  \n",
        "  def add_milk(self):\n",
        "    self.product.add('Milk')\n",
        "  \n",
        "class CoffeeBuilder(Builder):\n",
        "  def __init__(self):\n",
        "    self.reset()\n",
        "\n",
        "  def reset(self):\n",
        "    self.product = Coffee \n",
        "\n",
        "  @property\n",
        "  def product(self):\n",
        "    product = self.product\n",
        "    self.reset()\n",
        "    return product\n",
        "\n",
        "  def add_coffee(self):\n",
        "    self.product.add('Coffee')\n",
        "  \n",
        "  def add_water(self):\n",
        "    self.product.add('Water')\n",
        "  \n",
        "  def add_milk(self):\n",
        "    self.product.add('Milk')\n",
        "\n",
        "class Tea():\n",
        "\n",
        "  def __init__(self):\n",
        "    self.parts = []\n",
        "\n",
        "  def add(self, part):\n",
        "    self.parts.append(part)\n",
        "\n",
        "  def list_parts(self):\n",
        "    print(f\"Product consits: {', '.join(self.parts)}\", end='')\n",
        "\n",
        "class Director():\n",
        "  \n",
        "  def __init__(self):\n",
        "    self.builder = None\n",
        "\n",
        "  @property\n",
        "  def builder(self):\n",
        "    return self.builder\n",
        "\n",
        "  @builder.setter\n",
        "  def builder(self, builder):\n",
        "    self.builder = builder\n"
      ],
      "execution_count": null,
      "outputs": [
        {
          "output_type": "error",
          "ename": "SyntaxError",
          "evalue": "ignored",
          "traceback": [
            "\u001b[0;36m  File \u001b[0;32m\"<ipython-input-3-7d1ca509ba15>\"\u001b[0;36m, line \u001b[0;32m80\u001b[0m\n\u001b[0;31m    class Director():\u001b[0m\n\u001b[0m                     ^\u001b[0m\n\u001b[0;31mSyntaxError\u001b[0m\u001b[0;31m:\u001b[0m unexpected EOF while parsing\n"
          ]
        }
      ]
    },
    {
      "cell_type": "code",
      "metadata": {
        "id": "Oa65VDTPut3-"
      },
      "source": [
        ""
      ],
      "execution_count": null,
      "outputs": []
    }
  ]
}